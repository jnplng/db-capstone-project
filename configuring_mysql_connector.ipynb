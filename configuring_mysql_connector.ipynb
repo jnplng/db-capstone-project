{
 "cells": [
  {
   "cell_type": "code",
   "execution_count": 1,
   "id": "1f431b7f",
   "metadata": {},
   "outputs": [
    {
     "name": "stdout",
     "output_type": "stream",
     "text": [
      "Collecting mysql-connector-python\n",
      "  Downloading mysql_connector_python-8.0.33-cp310-cp310-win_amd64.whl (9.6 MB)\n",
      "                                              0.0/9.6 MB ? eta -:--:--\n",
      "                                              0.0/9.6 MB 1.4 MB/s eta 0:00:08\n",
      "                                              0.2/9.6 MB 2.0 MB/s eta 0:00:05\n",
      "     ---                                      0.8/9.6 MB 7.4 MB/s eta 0:00:02\n",
      "     ------                                   1.6/9.6 MB 10.3 MB/s eta 0:00:01\n",
      "     -----------                              2.6/9.6 MB 12.1 MB/s eta 0:00:01\n",
      "     -------------------                      4.6/9.6 MB 17.2 MB/s eta 0:00:01\n",
      "     ----------------------------             6.9/9.6 MB 22.2 MB/s eta 0:00:01\n",
      "     -------------------------------------    9.1/9.6 MB 25.3 MB/s eta 0:00:01\n",
      "     ---------------------------------------  9.6/9.6 MB 26.7 MB/s eta 0:00:01\n",
      "     ---------------------------------------- 9.6/9.6 MB 21.9 MB/s eta 0:00:00\n",
      "Collecting protobuf<=3.20.3,>=3.11.0 (from mysql-connector-python)\n",
      "  Downloading protobuf-3.20.3-cp310-cp310-win_amd64.whl (904 kB)\n",
      "                                              0.0/904.0 kB ? eta -:--:--\n",
      "     ------------------------------------- 904.0/904.0 kB 28.8 MB/s eta 0:00:00\n",
      "Installing collected packages: protobuf, mysql-connector-python\n",
      "Successfully installed mysql-connector-python-8.0.33 protobuf-3.20.3\n"
     ]
    }
   ],
   "source": [
    "!pip install mysql-connector-python"
   ]
  },
  {
   "cell_type": "code",
   "execution_count": 2,
   "id": "d86f0794",
   "metadata": {},
   "outputs": [],
   "source": [
    "import mysql.connector as connector"
   ]
  },
  {
   "cell_type": "code",
   "execution_count": 6,
   "id": "e18ce986",
   "metadata": {},
   "outputs": [],
   "source": [
    "connection = connector.connect(user = \"\", password = \"\", db = \"littlelemondb\")"
   ]
  },
  {
   "cell_type": "code",
   "execution_count": 7,
   "id": "82b5831c",
   "metadata": {},
   "outputs": [],
   "source": [
    "cursor = connection.cursor()\n",
    "show_tables_query = \"SHOW tables\"\n",
    "cursor.execute(show_tables_query)"
   ]
  },
  {
   "cell_type": "code",
   "execution_count": 8,
   "id": "93050d30",
   "metadata": {},
   "outputs": [
    {
     "name": "stdout",
     "output_type": "stream",
     "text": [
      "('address',)\n",
      "('bookings',)\n",
      "('customer',)\n",
      "('delivery',)\n",
      "('menu',)\n",
      "('orders',)\n",
      "('ordersview',)\n",
      "('staff',)\n"
     ]
    }
   ],
   "source": [
    "for table in cursor:\n",
    "    print(table)"
   ]
  },
  {
   "cell_type": "code",
   "execution_count": null,
   "id": "f121b69a",
   "metadata": {},
   "outputs": [],
   "source": [
    "join_query = \"\"\"\n",
    "    SELECT Customer.Name, Customer.PhoneNumber, Customer.Email, Orders.TotalCost\n",
    "    FROM Customer\n",
    "    INNER JOIN Orders ON Customer.CustomerID = Orders.CustomerID\n",
    "    WHERE Orders.TotalCost\"\"\"\n",
    "cursor.execute(join_query)"
   ]
  }
 ],
 "metadata": {
  "kernelspec": {
   "display_name": "Python 3 (ipykernel)",
   "language": "python",
   "name": "python3"
  },
  "language_info": {
   "codemirror_mode": {
    "name": "ipython",
    "version": 3
   },
   "file_extension": ".py",
   "mimetype": "text/x-python",
   "name": "python",
   "nbconvert_exporter": "python",
   "pygments_lexer": "ipython3",
   "version": "3.10.11"
  }
 },
 "nbformat": 4,
 "nbformat_minor": 5
}
